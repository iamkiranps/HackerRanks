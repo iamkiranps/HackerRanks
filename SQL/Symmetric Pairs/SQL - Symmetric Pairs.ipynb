{
 "cells": [
  {
   "cell_type": "markdown",
   "metadata": {
    "application/vnd.databricks.v1+cell": {
     "cellMetadata": {},
     "inputWidgets": {},
     "nuid": "43751d19-1564-4e50-8763-b554ccf4c22d",
     "showTitle": false,
     "tableResultSettingsMap": {},
     "title": ""
    }
   },
   "source": [
    "## Symmetric Pairs\n"
   ]
  },
  {
   "cell_type": "markdown",
   "metadata": {
    "application/vnd.databricks.v1+cell": {
     "cellMetadata": {},
     "inputWidgets": {},
     "nuid": "afabc7e1-d26c-4b5b-87df-18229c75b84c",
     "showTitle": false,
     "tableResultSettingsMap": {},
     "title": ""
    }
   },
   "source": [
    "## Question\n",
    "You are given a table, Functions, containing two columns: X and Y.\n",
    "\n",
    "Two pairs (X1, Y1) and (X2, Y2) are said to be symmetric pairs if X1 = Y2 and X2 = Y1.\n",
    "\n",
    "Write a query to output all such symmetric pairs in ascending order by the value of X. List the rows such that X1 ≤ Y1."
   ]
  },
  {
   "cell_type": "code",
   "execution_count": 0,
   "metadata": {
    "application/vnd.databricks.v1+cell": {
     "cellMetadata": {
      "byteLimit": 2048000,
      "rowLimit": 10000
     },
     "inputWidgets": {},
     "nuid": "ea913fb6-08af-41b7-9fd5-368ded82eb67",
     "showTitle": false,
     "tableResultSettingsMap": {},
     "title": ""
    }
   },
   "outputs": [],
   "source": [
    "from pyspark.sql import SparkSession\n",
    "from pyspark.sql import functions as F\n",
    "from pyspark.sql.types import StructField, StructType, IntegerType\n",
    "from pyspark.sql.window import Window"
   ]
  },
  {
   "cell_type": "code",
   "execution_count": 0,
   "metadata": {
    "application/vnd.databricks.v1+cell": {
     "cellMetadata": {
      "byteLimit": 2048000,
      "rowLimit": 10000
     },
     "inputWidgets": {},
     "nuid": "c6bc86ac-0135-4c75-9411-4050141ac69e",
     "showTitle": false,
     "tableResultSettingsMap": {},
     "title": ""
    }
   },
   "outputs": [],
   "source": [
    "spark = SparkSession.builder.appName('Symmetric Pairs').getOrCreate()"
   ]
  },
  {
   "cell_type": "code",
   "execution_count": 0,
   "metadata": {
    "application/vnd.databricks.v1+cell": {
     "cellMetadata": {
      "byteLimit": 2048000,
      "rowLimit": 10000
     },
     "inputWidgets": {},
     "nuid": "87717a06-0895-448d-97a7-72614acb49ac",
     "showTitle": false,
     "tableResultSettingsMap": {},
     "title": ""
    }
   },
   "outputs": [],
   "source": [
    "functions_schema = StructType([StructField('X', IntegerType(), False),\n",
    "                               StructField('Y', IntegerType(), False)])"
   ]
  },
  {
   "cell_type": "code",
   "execution_count": 0,
   "metadata": {
    "application/vnd.databricks.v1+cell": {
     "cellMetadata": {
      "byteLimit": 2048000,
      "rowLimit": 10000
     },
     "inputWidgets": {},
     "nuid": "f82b103b-2376-4f2f-9500-d6cdf7b46d35",
     "showTitle": false,
     "tableResultSettingsMap": {},
     "title": ""
    }
   },
   "outputs": [
    {
     "data": {
      "text/html": [
       "<style scoped>\n",
       "  .table-result-container {\n",
       "    max-height: 300px;\n",
       "    overflow: auto;\n",
       "  }\n",
       "  table, th, td {\n",
       "    border: 1px solid black;\n",
       "    border-collapse: collapse;\n",
       "  }\n",
       "  th, td {\n",
       "    padding: 5px;\n",
       "  }\n",
       "  th {\n",
       "    text-align: left;\n",
       "  }\n",
       "</style><div class='table-result-container'><table class='table-result'><thead style='background-color: white'><tr><th>X</th><th>Y</th></tr></thead><tbody><tr><td>86</td><td>86</td></tr><tr><td>27</td><td>27</td></tr><tr><td>45</td><td>45</td></tr><tr><td>95</td><td>95</td></tr><tr><td>11</td><td>11</td></tr><tr><td>18</td><td>8</td></tr><tr><td>85</td><td>85</td></tr><tr><td>2</td><td>2</td></tr><tr><td>77</td><td>77</td></tr><tr><td>91</td><td>91</td></tr><tr><td>15</td><td>15</td></tr><tr><td>84</td><td>84</td></tr><tr><td>51</td><td>51</td></tr><tr><td>32</td><td>32</td></tr><tr><td>35</td><td>35</td></tr></tbody></table></div>"
      ]
     },
     "metadata": {
      "application/vnd.databricks.v1+output": {
       "addedWidgets": {},
       "aggData": [],
       "aggError": "",
       "aggOverflow": false,
       "aggSchema": [],
       "aggSeriesLimitReached": false,
       "aggType": "",
       "arguments": {},
       "columnCustomDisplayInfos": {},
       "data": [
        [
         86,
         86
        ],
        [
         27,
         27
        ],
        [
         45,
         45
        ],
        [
         95,
         95
        ],
        [
         11,
         11
        ],
        [
         18,
         8
        ],
        [
         85,
         85
        ],
        [
         2,
         2
        ],
        [
         77,
         77
        ],
        [
         91,
         91
        ],
        [
         15,
         15
        ],
        [
         84,
         84
        ],
        [
         51,
         51
        ],
        [
         32,
         32
        ],
        [
         35,
         35
        ]
       ],
       "datasetInfos": [],
       "dbfsResultPath": null,
       "isJsonSchema": true,
       "metadata": {},
       "overflow": false,
       "plotOptions": {
        "customPlotOptions": {},
        "displayType": "table",
        "pivotAggregation": null,
        "pivotColumns": null,
        "xColumns": null,
        "yColumns": null
       },
       "removedWidgets": [],
       "schema": [
        {
         "metadata": "{}",
         "name": "X",
         "type": "\"integer\""
        },
        {
         "metadata": "{}",
         "name": "Y",
         "type": "\"integer\""
        }
       ],
       "type": "table"
      }
     },
     "output_type": "display_data"
    }
   ],
   "source": [
    "functions_df = spark.read.csv('dbfs:/FileStore/HackerRank/Functions.csv', schema=functions_schema, header=True)\n",
    "display(functions_df.limit(15))"
   ]
  },
  {
   "cell_type": "code",
   "execution_count": 0,
   "metadata": {
    "application/vnd.databricks.v1+cell": {
     "cellMetadata": {
      "byteLimit": 2048000,
      "rowLimit": 10000
     },
     "inputWidgets": {},
     "nuid": "67dff3f5-b48d-465f-b525-17ce05bbecb0",
     "showTitle": false,
     "tableResultSettingsMap": {},
     "title": ""
    }
   },
   "outputs": [],
   "source": [
    "functions_df.createOrReplaceTempView('functions_v')"
   ]
  },
  {
   "cell_type": "markdown",
   "metadata": {
    "application/vnd.databricks.v1+cell": {
     "cellMetadata": {},
     "inputWidgets": {},
     "nuid": "07ccd9db-7129-4cc1-a482-a3cb037c0f8b",
     "showTitle": false,
     "tableResultSettingsMap": {},
     "title": ""
    }
   },
   "source": [
    "## SQL Solution"
   ]
  },
  {
   "cell_type": "code",
   "execution_count": 0,
   "metadata": {
    "application/vnd.databricks.v1+cell": {
     "cellMetadata": {
      "byteLimit": 2048000,
      "implicitDf": true,
      "rowLimit": 10000
     },
     "inputWidgets": {},
     "nuid": "884ed803-bb8d-4135-bcbe-628d723c6ceb",
     "showTitle": false,
     "tableResultSettingsMap": {},
     "title": ""
    },
    "jupyter": {
     "outputs_hidden": true
    }
   },
   "outputs": [
    {
     "data": {
      "text/html": [
       "<style scoped>\n",
       "  .table-result-container {\n",
       "    max-height: 300px;\n",
       "    overflow: auto;\n",
       "  }\n",
       "  table, th, td {\n",
       "    border: 1px solid black;\n",
       "    border-collapse: collapse;\n",
       "  }\n",
       "  th, td {\n",
       "    padding: 5px;\n",
       "  }\n",
       "  th {\n",
       "    text-align: left;\n",
       "  }\n",
       "</style><div class='table-result-container'><table class='table-result'><thead style='background-color: white'><tr><th>X1</th><th>Y1</th></tr></thead><tbody><tr><td>2</td><td>24</td></tr><tr><td>4</td><td>22</td></tr><tr><td>5</td><td>21</td></tr><tr><td>6</td><td>20</td></tr><tr><td>8</td><td>18</td></tr><tr><td>9</td><td>17</td></tr><tr><td>11</td><td>15</td></tr><tr><td>13</td><td>13</td></tr></tbody></table></div>"
      ]
     },
     "metadata": {
      "application/vnd.databricks.v1+output": {
       "addedWidgets": {},
       "aggData": [],
       "aggError": "",
       "aggOverflow": false,
       "aggSchema": [],
       "aggSeriesLimitReached": false,
       "aggType": "",
       "arguments": {},
       "columnCustomDisplayInfos": {},
       "data": [
        [
         2,
         24
        ],
        [
         4,
         22
        ],
        [
         5,
         21
        ],
        [
         6,
         20
        ],
        [
         8,
         18
        ],
        [
         9,
         17
        ],
        [
         11,
         15
        ],
        [
         13,
         13
        ]
       ],
       "datasetInfos": [],
       "dbfsResultPath": null,
       "isJsonSchema": true,
       "metadata": {},
       "overflow": false,
       "plotOptions": {
        "customPlotOptions": {},
        "displayType": "table",
        "pivotAggregation": null,
        "pivotColumns": null,
        "xColumns": null,
        "yColumns": null
       },
       "removedWidgets": [],
       "schema": [
        {
         "metadata": "{}",
         "name": "X1",
         "type": "\"integer\""
        },
        {
         "metadata": "{}",
         "name": "Y1",
         "type": "\"integer\""
        }
       ],
       "type": "table"
      }
     },
     "output_type": "display_data"
    }
   ],
   "source": [
    "%sql\n",
    "with CTE as \n",
    "(\n",
    "select x as X1, y as Y1, row_number() over (order by X, Y) rn from functions_v\n",
    ")\n",
    "select X1, Y1 from CTE f1 where exists(select 1 from CTE as f2 where f1.rn < f2.rn and f1.X1=f2.Y1 and f1.Y1=f2.X1)\n",
    "order by X1"
   ]
  },
  {
   "cell_type": "markdown",
   "metadata": {
    "application/vnd.databricks.v1+cell": {
     "cellMetadata": {},
     "inputWidgets": {},
     "nuid": "91810239-822d-4d62-905c-2c94c5342883",
     "showTitle": false,
     "tableResultSettingsMap": {},
     "title": ""
    }
   },
   "source": [
    "## Pyspark Solution"
   ]
  },
  {
   "cell_type": "code",
   "execution_count": 0,
   "metadata": {
    "application/vnd.databricks.v1+cell": {
     "cellMetadata": {
      "byteLimit": 2048000,
      "rowLimit": 10000
     },
     "inputWidgets": {},
     "nuid": "ef9ddc0f-974f-48b1-8254-efbfab666159",
     "showTitle": false,
     "tableResultSettingsMap": {},
     "title": ""
    },
    "jupyter": {
     "outputs_hidden": true
    }
   },
   "outputs": [
    {
     "data": {
      "text/html": [
       "<style scoped>\n",
       "  .table-result-container {\n",
       "    max-height: 300px;\n",
       "    overflow: auto;\n",
       "  }\n",
       "  table, th, td {\n",
       "    border: 1px solid black;\n",
       "    border-collapse: collapse;\n",
       "  }\n",
       "  th, td {\n",
       "    padding: 5px;\n",
       "  }\n",
       "  th {\n",
       "    text-align: left;\n",
       "  }\n",
       "</style><div class='table-result-container'><table class='table-result'><thead style='background-color: white'><tr><th>X</th><th>Y</th></tr></thead><tbody><tr><td>2</td><td>24</td></tr><tr><td>4</td><td>22</td></tr><tr><td>5</td><td>21</td></tr><tr><td>6</td><td>20</td></tr><tr><td>8</td><td>18</td></tr><tr><td>9</td><td>17</td></tr><tr><td>11</td><td>15</td></tr><tr><td>13</td><td>13</td></tr></tbody></table></div>"
      ]
     },
     "metadata": {
      "application/vnd.databricks.v1+output": {
       "addedWidgets": {},
       "aggData": [],
       "aggError": "",
       "aggOverflow": false,
       "aggSchema": [],
       "aggSeriesLimitReached": false,
       "aggType": "",
       "arguments": {},
       "columnCustomDisplayInfos": {},
       "data": [
        [
         2,
         24
        ],
        [
         4,
         22
        ],
        [
         5,
         21
        ],
        [
         6,
         20
        ],
        [
         8,
         18
        ],
        [
         9,
         17
        ],
        [
         11,
         15
        ],
        [
         13,
         13
        ]
       ],
       "datasetInfos": [],
       "dbfsResultPath": null,
       "isJsonSchema": true,
       "metadata": {},
       "overflow": false,
       "plotOptions": {
        "customPlotOptions": {},
        "displayType": "table",
        "pivotAggregation": null,
        "pivotColumns": null,
        "xColumns": null,
        "yColumns": null
       },
       "removedWidgets": [],
       "schema": [
        {
         "metadata": "{}",
         "name": "X",
         "type": "\"integer\""
        },
        {
         "metadata": "{}",
         "name": "Y",
         "type": "\"integer\""
        }
       ],
       "type": "table"
      }
     },
     "output_type": "display_data"
    }
   ],
   "source": [
    "functions_sub = functions_df.withColumn('rn', F.row_number().over(Window.orderBy(F.col('X'), F.col('Y'))))\n",
    "\n",
    "results_df = functions_sub.alias('f1')\\\n",
    "    .join(functions_sub.alias('f2'),\\\n",
    "        ((F.col('f1.rn') < F.col('f2.rn')) & \\\n",
    "            (F.col('f1.X')==F.col('f2.Y')) & \\\n",
    "                (F.col('f1.Y')==F.col('f2.X'))),\\\n",
    "            how=\"inner\")\\\n",
    "                .orderBy(F.col('f1.X'))\\\n",
    "                    .select(F.col('f1.X'), F.col('f1.Y'))\n",
    "\n",
    "display(results_df)"
   ]
  }
 ],
 "metadata": {
  "application/vnd.databricks.v1+notebook": {
   "dashboards": [],
   "environmentMetadata": null,
   "language": "python",
   "notebookMetadata": {
    "mostRecentlyExecutedCommandWithImplicitDF": {
     "commandId": 277447901984433,
     "dataframes": [
      "_sqldf"
     ]
    },
    "pythonIndentUnit": 4
   },
   "notebookName": "SQL - Symmetric Pairs",
   "widgets": {}
  },
  "language_info": {
   "name": "python"
  }
 },
 "nbformat": 4,
 "nbformat_minor": 0
}
